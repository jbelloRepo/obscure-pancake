{
 "cells": [
  {
   "cell_type": "markdown",
   "metadata": {},
   "source": [
    "source: https://ischoolonline.berkeley.edu/blog/python-practice-problems/"
   ]
  },
  {
   "cell_type": "markdown",
   "metadata": {},
   "source": [
    "Fly Swatting: Debugging and String Formatting Exercise\n",
    "The following code chunk contains errors that prevent it from executing properly. Find the “bugs” and correct them.\n",
    "\n",
    "``````\n",
    "def problem_one():\n",
    "\n",
    "capitals = \n",
    "“Maryland” == “Annapolis”\n",
    "“California”: Sacramento,\n",
    "“New York”: “Albany,\n",
    "“Utah'': “Salt Lake City”,\n",
    "“Alabama”: “Montgomery”\n",
    "}\n",
    "for state, city in capitals.items()\n",
    "print(f”The capital of {state) is {‘city’}.”\n",
    "\n",
    "``````\n",
    "\n",
    "Once fixed, it should return the following output:\n",
    "``````\n",
    "The capital of Maryland is Annapolis.\n",
    "The capital of California is Sacramento.\n",
    "The capital of New York is Albany.\n",
    "The capital of Utah is Salt Lake City.\n",
    "The capital of Alabama is Montgomery.\n",
    "``````\n"
   ]
  },
  {
   "cell_type": "code",
   "execution_count": 9,
   "metadata": {},
   "outputs": [
    {
     "name": "stdout",
     "output_type": "stream",
     "text": [
      "The capital of Maryland is Annapolis.\n",
      "The capital of California is Sacramento.\n",
      "The capital of New York is Albany.\n",
      "The capital of Utah is Salt Lake City.\n",
      "The capital of Alabama is Montgomery.\n"
     ]
    }
   ],
   "source": [
    "def problem_one():\n",
    "    # Removed the unnecessary string assignment\n",
    "    capitals = {'Maryland': 'Annapolis',\n",
    "                'California': 'Sacramento',\n",
    "                'New York': 'Albany',\n",
    "                'Utah': 'Salt Lake City',\n",
    "                'Alabama': 'Montgomery'}\n",
    "    \n",
    "    for state, city in capitals.items():\n",
    "        print(f\"The capital of {state} is {city}.\")\n",
    "\n",
    "\n",
    "# Call the function to get the dictionary\n",
    "problem_one()\n"
   ]
  },
  {
   "cell_type": "code",
   "execution_count": null,
   "metadata": {},
   "outputs": [],
   "source": []
  }
 ],
 "metadata": {
  "kernelspec": {
   "display_name": "Python 3",
   "language": "python",
   "name": "python3"
  },
  "language_info": {
   "codemirror_mode": {
    "name": "ipython",
    "version": 3
   },
   "file_extension": ".py",
   "mimetype": "text/x-python",
   "name": "python",
   "nbconvert_exporter": "python",
   "pygments_lexer": "ipython3",
   "version": "3.10.8"
  }
 },
 "nbformat": 4,
 "nbformat_minor": 2
}
